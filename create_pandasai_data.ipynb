{
 "cells": [
  {
   "cell_type": "code",
   "execution_count": 10,
   "metadata": {},
   "outputs": [
    {
     "name": "stdout",
     "output_type": "stream",
     "text": [
      "CSV dosyası oluşturuldu: harcamalar.csv\n"
     ]
    }
   ],
   "source": [
    "import pandas as pd\n",
    "import numpy as np\n",
    "import random\n",
    "from datetime import datetime, timedelta\n",
    "\n",
    "start_date = datetime(2024, 1, 1)\n",
    "end_date = datetime(2024, 7, 1)\n",
    "date_range = (end_date - start_date).days\n",
    "\n",
    "sectors = [\"Gıda\", \"Ulaşım\", \"Giyim\", \"Eğlence\", \"Sağlık\", \"Fatura\", \"Abonelikler\"]\n",
    "\n",
    "payment_methods = [\"Nakit\", \"Kredi Kartı\", \"Banka Kartı\", \"Dijital Cüzdan\"]\n",
    "\n",
    "days_of_week = [\"Pazartesi\", \"Salı\", \"Çarşamba\", \"Perşembe\", \"Cuma\", \"Cumartesi\", \"Pazar\"]\n",
    "\n",
    "descriptions = [\n",
    "    \"Alışveriş\",\n",
    "    \"Yemek\",\n",
    "    \"Ulaşım\",\n",
    "    \"Eğlence\",\n",
    "    \"Sağlık hizmeti\",\n",
    "    \"Fatura ödemesi\",\n",
    "    \"Abonelik ödemesi\",\n",
    "    \"Restoran harcaması\",\n",
    "    \"Kafe harcaması\",\n",
    "    \"Diğer\"\n",
    "]\n",
    "\n",
    "data = []\n",
    "for _ in range(5000):  \n",
    "    random_days = random.randint(0, date_range)\n",
    "    random_date = start_date + timedelta(days=random_days)\n",
    "    time = datetime.strptime(f\"{random.randint(0, 23):02d}:{random.randint(0, 59):02d}\", \"%H:%M\").time()\n",
    "    \n",
    "    if 0 <= time.hour < 6: \n",
    "        if random.random() < 0.9:  \n",
    "            continue\n",
    "            \n",
    "    sector = random.choice(sectors)\n",
    "    payment_method = random.choice(payment_methods)\n",
    "    \n",
    "    amount = np.random.normal(loc=5000, scale=3000)\n",
    "    \n",
    "    max_amount = 100000 * random.uniform(0.9, 1.1)\n",
    "    amount = max(1, min(max_amount, amount))\n",
    "    \n",
    "    datetime_obj = datetime.combine(random_date, time)\n",
    "    \n",
    "    date_str = datetime_obj.date().strftime('%Y-%m-%d')\n",
    "    time_str = datetime_obj.time().strftime('%H:%M:%S')\n",
    "    day_of_week = days_of_week[datetime_obj.weekday()]\n",
    "    \n",
    "    description = random.choice(descriptions)\n",
    "    \n",
    "    data.append([date_str, time_str, day_of_week, sector, payment_method, round(amount, 2), description])\n",
    "\n",
    "df = pd.DataFrame(data, columns=[\"Tarih\", \"Saat\", \"Gün\", \"Sektör\", \"Ödeme Yöntemi\", \"Tutar\", \"Açıklama\"])\n",
    "\n",
    "df[\"Tarih\"] = pd.to_datetime(df[\"Tarih\"], format='%Y-%m-%d')\n",
    "df[\"Saat\"] = pd.to_datetime(df[\"Saat\"], format='%H:%M:%S').dt.time\n",
    "\n",
    "df.to_csv(\"harcamalar.csv\", index=False, encoding=\"utf-8\")"
   ]
  }
 ],
 "metadata": {
  "kernelspec": {
   "display_name": "venv",
   "language": "python",
   "name": "python3"
  },
  "language_info": {
   "codemirror_mode": {
    "name": "ipython",
    "version": 3
   },
   "file_extension": ".py",
   "mimetype": "text/x-python",
   "name": "python",
   "nbconvert_exporter": "python",
   "pygments_lexer": "ipython3",
   "version": "3.11.7"
  }
 },
 "nbformat": 4,
 "nbformat_minor": 2
}
